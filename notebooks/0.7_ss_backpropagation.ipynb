{
 "cells": [
  {
   "cell_type": "code",
   "execution_count": 1,
   "metadata": {},
   "outputs": [],
   "source": [
    "%run ./ipython_startup.ipynb"
   ]
  },
  {
   "cell_type": "code",
   "execution_count": 13,
   "metadata": {},
   "outputs": [],
   "source": [
    "A = Square()\n",
    "B = Exp()\n",
    "C = Square()\n",
    "\n",
    "x = Variable(np.array(0.5))\n",
    "a = A(x)\n",
    "b = B(a)\n",
    "y = C(b)\n"
   ]
  },
  {
   "cell_type": "code",
   "execution_count": 3,
   "metadata": {},
   "outputs": [],
   "source": [
    "assert y.creator == C\n",
    "assert y.creator.input == b\n",
    "assert y.creator.input.creator == B\n",
    "assert y.creator.input.creator.input == a\n",
    "assert y.creator.input.creator.input.creator == A\n"
   ]
  },
  {
   "cell_type": "markdown",
   "metadata": {},
   "source": [
    "y.grad = np.array(1.0)\n",
    "C = y.creator\n",
    "b = C.input\n",
    "b.grad = C.backward(y.grad)"
   ]
  },
  {
   "cell_type": "code",
   "execution_count": 26,
   "metadata": {},
   "outputs": [
    {
     "output_type": "stream",
     "name": "stderr",
     "text": "INFO:frameworks_from_scratch.variable:Gradient from [Square(Variable(1.28)) -> Variable(1.65)] and Variable(1.65)\nINFO:frameworks_from_scratch.function:Backward called: gx=2.57 := 2 * x=1.28 * gy=1.00\nINFO:frameworks_from_scratch.variable:Gradient from [Exp(Variable(0.25)) -> Variable(1.28)] and Variable(1.28)\nINFO:frameworks_from_scratch.function:Backward called: gx=3.30 := np.exp(x)=1.28 * gy=2.57\nINFO:frameworks_from_scratch.variable:Gradient from [Square(Variable(0.50)) -> Variable(0.25)] and Variable(0.25)\nINFO:frameworks_from_scratch.function:Backward called: gx=3.30 := 2 * x=0.50 * gy=3.30\n"
    }
   ],
   "source": [
    "y.grad = np.array(1.0)\n",
    "y.backward()"
   ]
  },
  {
   "cell_type": "code",
   "execution_count": 15,
   "metadata": {},
   "outputs": [
    {
     "output_type": "execute_result",
     "data": {
      "text/plain": "3.297442541400256"
     },
     "metadata": {},
     "execution_count": 15
    }
   ],
   "source": [
    "x.grad"
   ]
  },
  {
   "cell_type": "code",
   "execution_count": null,
   "metadata": {},
   "outputs": [],
   "source": []
  }
 ],
 "metadata": {
  "language_info": {
   "codemirror_mode": {
    "name": "ipython",
    "version": 3
   },
   "file_extension": ".py",
   "mimetype": "text/x-python",
   "name": "python",
   "nbconvert_exporter": "python",
   "pygments_lexer": "ipython3",
   "version": "3.8.1-final"
  },
  "orig_nbformat": 2,
  "kernelspec": {
   "name": "python38164bitframeworksfromscratchrwdm9waapy38venv553b09a9ff884f0caaac420ff2182318",
   "display_name": "Python 3.8.1 64-bit ('frameworks-from-scratch-RWdm9WAA-py3.8': venv)"
  }
 },
 "nbformat": 4,
 "nbformat_minor": 2
}