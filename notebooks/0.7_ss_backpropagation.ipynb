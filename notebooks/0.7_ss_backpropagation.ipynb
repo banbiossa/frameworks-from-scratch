{
 "cells": [
  {
   "cell_type": "code",
   "execution_count": 1,
   "metadata": {
    "execution": {
     "iopub.execute_input": "2021-01-07T08:24:49.101285Z",
     "iopub.status.busy": "2021-01-07T08:24:49.100978Z",
     "iopub.status.idle": "2021-01-07T08:24:49.607927Z",
     "shell.execute_reply": "2021-01-07T08:24:49.607260Z",
     "shell.execute_reply.started": "2021-01-07T08:24:49.101213Z"
    },
    "pycharm": {
     "is_executing": false
    }
   },
   "outputs": [],
   "source": [
    "%load_ext autoreload\n",
    "%autoreload 2\n",
    "import numpy as np\n",
    "from frameworks_from_scratch import *\n",
    "import frameworks_from_scratch.function as f\n",
    "import os\n",
    "import matplotlib.pyplot as plt"
   ]
  },
  {
   "cell_type": "code",
   "execution_count": 2,
   "outputs": [
    {
     "data": {
      "text/plain": "Variable([[1 1 1]\n          [1 1 1]])"
     },
     "metadata": {},
     "output_type": "execute_result",
     "execution_count": 2
    }
   ],
   "source": [
    "x = Variable(np.array([[1, 2, 3], [4, 5, 6]]))\n",
    "y = f.transpose(x)\n",
    "y.backward()\n",
    "x.grad"
   ],
   "metadata": {
    "collapsed": false,
    "pycharm": {
     "name": "#%%\n",
     "is_executing": false
    }
   }
  },
  {
   "cell_type": "code",
   "execution_count": 5,
   "outputs": [
    {
     "data": {
      "text/plain": "array([[1, 4],\n       [2, 5],\n       [3, 6]])"
     },
     "metadata": {},
     "output_type": "execute_result",
     "execution_count": 5
    }
   ],
   "source": [
    "x = np.array([[1, 2, 3], [4, 5, 6]])\n",
    "y = np.transpose(x)\n",
    "y"
   ],
   "metadata": {
    "collapsed": false,
    "pycharm": {
     "name": "#%%\n",
     "is_executing": false
    }
   }
  },
  {
   "cell_type": "code",
   "execution_count": 4,
   "outputs": [
    {
     "name": "stdout",
     "text": [
      "Variable([[-1.57063232  0.88472598 -0.84821509]\n",
      "          [ 0.07097114  0.51055568  0.57147547]])\n"
     ],
     "output_type": "stream"
    },
    {
     "data": {
      "text/plain": "Variable([[-1.57063232  0.88472598 -0.84821509]\n          [ 0.07097114  0.51055568  0.57147547]])"
     },
     "metadata": {},
     "output_type": "execute_result",
     "execution_count": 4
    }
   ],
   "source": [
    "x = Variable(np.random.randn(1, 2, 3))\n",
    "y = x.reshape((2, 3))\n",
    "x = y.reshape(2, 3)\n",
    "print(x)\n",
    "y\n"
   ],
   "metadata": {
    "collapsed": false,
    "pycharm": {
     "name": "#%%\n",
     "is_executing": false
    }
   }
  },
  {
   "cell_type": "code",
   "execution_count": 2,
   "outputs": [
    {
     "data": {
      "text/plain": "Variable([[1 1 1]\n          [1 1 1]])"
     },
     "metadata": {},
     "output_type": "execute_result",
     "execution_count": 2
    }
   ],
   "source": [
    "x = Variable(np.array([[1, 2, 3], [4, 5, 6]]))\n",
    "y = f.reshape(x, (6, ))\n",
    "y.backward(retrain_grad=True)\n",
    "x.grad"
   ],
   "metadata": {
    "collapsed": false,
    "pycharm": {
     "name": "#%%\n",
     "is_executing": false
    }
   }
  },
  {
   "cell_type": "code",
   "execution_count": 3,
   "outputs": [
    {
     "traceback": [
      "\u001b[0;31m---------------------------------------------------------------------------\u001b[0m",
      "\u001b[0;31mAttributeError\u001b[0m                            Traceback (most recent call last)",
      "\u001b[0;32m<ipython-input-3-240f29117e78>\u001b[0m in \u001b[0;36m<module>\u001b[0;34m\u001b[0m\n\u001b[1;32m      2\u001b[0m \u001b[0mc\u001b[0m \u001b[0;34m=\u001b[0m \u001b[0mVariable\u001b[0m\u001b[0;34m(\u001b[0m\u001b[0mnp\u001b[0m\u001b[0;34m.\u001b[0m\u001b[0marray\u001b[0m\u001b[0;34m(\u001b[0m\u001b[0;34m[\u001b[0m\u001b[0;34m[\u001b[0m\u001b[0;36m10\u001b[0m\u001b[0;34m,\u001b[0m \u001b[0;36m20\u001b[0m\u001b[0;34m,\u001b[0m \u001b[0;36m30\u001b[0m\u001b[0;34m]\u001b[0m\u001b[0;34m,\u001b[0m \u001b[0;34m[\u001b[0m\u001b[0;36m40\u001b[0m\u001b[0;34m,\u001b[0m \u001b[0;36m50\u001b[0m\u001b[0;34m,\u001b[0m \u001b[0;36m60\u001b[0m\u001b[0;34m]\u001b[0m\u001b[0;34m]\u001b[0m\u001b[0;34m)\u001b[0m\u001b[0;34m)\u001b[0m\u001b[0;34m\u001b[0m\u001b[0;34m\u001b[0m\u001b[0m\n\u001b[1;32m      3\u001b[0m \u001b[0mt\u001b[0m \u001b[0;34m=\u001b[0m \u001b[0mx\u001b[0m \u001b[0;34m+\u001b[0m \u001b[0mc\u001b[0m\u001b[0;34m\u001b[0m\u001b[0;34m\u001b[0m\u001b[0m\n\u001b[0;32m----> 4\u001b[0;31m \u001b[0my\u001b[0m \u001b[0;34m=\u001b[0m \u001b[0mf\u001b[0m\u001b[0;34m.\u001b[0m\u001b[0msum\u001b[0m\u001b[0;34m(\u001b[0m\u001b[0mt\u001b[0m\u001b[0;34m)\u001b[0m\u001b[0;34m\u001b[0m\u001b[0;34m\u001b[0m\u001b[0m\n\u001b[0m\u001b[1;32m      5\u001b[0m \u001b[0;34m\u001b[0m\u001b[0m\n",
      "\u001b[0;31mAttributeError\u001b[0m: module 'frameworks_from_scratch.function' has no attribute 'sum'"
     ],
     "ename": "AttributeError",
     "evalue": "module 'frameworks_from_scratch.function' has no attribute 'sum'",
     "output_type": "error"
    }
   ],
   "source": [
    "x = Variable(np.array([[1, 2, 3], [4, 5, 6]]))\n",
    "c = Variable(np.array([[10, 20, 30], [40, 50, 60]]))\n",
    "t = x + c\n",
    "y = f.sum(t)"
   ],
   "metadata": {
    "collapsed": false,
    "pycharm": {
     "name": "#%%\n",
     "is_executing": false
    }
   }
  },
  {
   "cell_type": "code",
   "execution_count": 4,
   "outputs": [
    {
     "data": {
      "text/plain": "array([1, 2, 3, 4, 5, 6])"
     },
     "metadata": {},
     "output_type": "execute_result",
     "execution_count": 4
    }
   ],
   "source": [
    "x = np.array([[1, 2, 3], [4, 5, 6]])\n",
    "y = np.reshape(x, (6, ))\n",
    "y"
   ],
   "metadata": {
    "collapsed": false,
    "pycharm": {
     "name": "#%%\n",
     "is_executing": false
    }
   }
  },
  {
   "cell_type": "code",
   "execution_count": 12,
   "outputs": [
    {
     "name": "stdout",
     "text": [
      "Variable(100.0)\n"
     ],
     "output_type": "stream"
    }
   ],
   "source": [
    "x = Variable(2.)\n",
    "y = x ** 2\n",
    "y.backward(create_graph=True)\n",
    "gx = x.grad\n",
    "x.cleargrad()\n",
    "\n",
    "z = gx ** 3 + y\n",
    "z.backward()\n",
    "print(x.grad)"
   ],
   "metadata": {
    "collapsed": false,
    "pycharm": {
     "name": "#%%\n",
     "is_executing": false
    }
   }
  },
  {
   "cell_type": "code",
   "execution_count": 11,
   "outputs": [],
   "source": [
    "x = Variable(1.)\n",
    "y = f.tanh(x)\n",
    "x.name = 'x'\n",
    "y.name = 'y'\n",
    "y.backward(create_graph=True)\n",
    "\n",
    "num_iter = 0\n",
    "for i in range(num_iter):\n",
    "    gx = x.grad\n",
    "    x.cleargrad()\n",
    "    gx.backward(create_graph=True)\n",
    "\n",
    "gx = x.grad\n",
    "gx.name = 'gx' + str(num_iter+1)\n",
    "plot_dot_graph(gx, verbose=False, to_file='tanh.png')"
   ],
   "metadata": {
    "collapsed": false,
    "pycharm": {
     "name": "#%%\n",
     "is_executing": false
    }
   }
  },
  {
   "cell_type": "code",
   "execution_count": 10,
   "outputs": [
    {
     "data": {
      "text/plain": "<Figure size 432x288 with 1 Axes>",
      "image/png": "[encoded data removed]"
     },
     "metadata": {
      "needs_background": "light"
     },
     "output_type": "display_data"
    }
   ],
   "source": [
    "x = Variable(np.linspace(-7, 7, 200))\n",
    "y = f.sin(x)\n",
    "y.backward(create_graph=True)\n",
    "\n",
    "logs = [y.data.flatten()]\n",
    "for i in range(3):\n",
    "    logs.append(x.grad.data.flatten())\n",
    "    gx = x.grad\n",
    "    x.cleargrad()\n",
    "    gx.backward(create_graph=True)\n",
    "    \n",
    "labels = ['y=sin(x)', \"y'\", \"y''\", \"y'''\"]\n",
    "for i, v in enumerate(logs):\n",
    "    plt.plot(x.data, logs[i], label=labels[i])\n",
    "\n",
    "plt.legend(loc='lower right')\n",
    "plt.show()"
   ],
   "metadata": {
    "collapsed": false,
    "pycharm": {
     "name": "#%%\n",
     "is_executing": false
    }
   }
  },
  {
   "cell_type": "code",
   "execution_count": 5,
   "outputs": [
    {
     "name": "stdout",
     "text": [
      "Variable(-0.8414709848078965)\n",
      "Variable(-0.5403023058681398)\n",
      "Variable(0.8414709848078965)\n"
     ],
     "output_type": "stream"
    }
   ],
   "source": [
    "x = Variable(1.)\n",
    "y = f.sin(x)\n",
    "y.backward(create_graph=True)\n",
    "\n",
    "for i in range(3):\n",
    "    gx = x.grad\n",
    "    x.cleargrad()\n",
    "    gx.backward(create_graph=True)\n",
    "    print(x.grad)"
   ],
   "metadata": {
    "collapsed": false,
    "pycharm": {
     "name": "#%%\n",
     "is_executing": false
    }
   }
  },
  {
   "cell_type": "code",
   "execution_count": 4,
   "outputs": [
    {
     "name": "stdout",
     "text": [
      "0 Variable(2.0)\n",
      "1 Variable(1.4545454545454546)\n",
      "2 Variable(1.1510467893775467)\n",
      "3 Variable(1.0253259289766978)\n",
      "4 Variable(1.0009084519430513)\n",
      "5 Variable(1.0000012353089454)\n",
      "6 Variable(1.000000000002289)\n",
      "7 Variable(1.0)\n",
      "8 Variable(1.0)\n",
      "9 Variable(1.0)\n"
     ],
     "output_type": "stream"
    }
   ],
   "source": [
    "def f(x):\n",
    "    return x ** 4 - 2*x**2\n",
    "\n",
    "x = Variable(2.)\n",
    "num_iter = 10\n",
    "for i in range(num_iter):\n",
    "    print(i, x)\n",
    "    y = f(x)\n",
    "    x.cleargrad()\n",
    "    y.backward(create_graph=True)\n",
    "    \n",
    "    gx = x.grad\n",
    "    x.cleargrad()\n",
    "    gx.backward()\n",
    "    gx2 = x.grad\n",
    "    \n",
    "    x.data -= gx.data / gx2.data\n"
   ],
   "metadata": {
    "collapsed": false,
    "pycharm": {
     "name": "#%%\n",
     "is_executing": false
    }
   }
  },
  {
   "cell_type": "code",
   "execution_count": 3,
   "outputs": [
    {
     "name": "stdout",
     "text": [
      "Variable(24.0)\n",
      "Variable(44.0)\n",
      "None\n"
     ],
     "output_type": "stream"
    }
   ],
   "source": [
    "def f(x):\n",
    "    return x ** 4 - 2*x**2\n",
    "\n",
    "x = Variable(2.)\n",
    "y = f(x)\n",
    "y.backward(create_graph = True)\n",
    "print(x.grad)\n",
    "\n",
    "gx = x.grad\n",
    "x.cleargrad()\n",
    "gx.backward()\n",
    "print(x.grad)\n",
    "print(gx.grad)"
   ],
   "metadata": {
    "collapsed": false,
    "pycharm": {
     "name": "#%%\n",
     "is_executing": false
    }
   }
  },
  {
   "cell_type": "code",
   "execution_count": 5,
   "outputs": [
    {
     "name": "stdout",
     "text": [
      "0 Variable(2.0)\n",
      "1 Variable(1.4545454545454546)\n",
      "2 Variable(1.1510467893775467)\n",
      "3 Variable(1.0253259289766978)\n",
      "4 Variable(1.0009084519430513)\n",
      "5 Variable(1.0000012353089454)\n",
      "6 Variable(1.000000000002289)\n",
      "7 Variable(1.0)\n",
      "8 Variable(1.0)\n",
      "9 Variable(1.0)\n"
     ],
     "output_type": "stream"
    }
   ],
   "source": [
    "def f(x):\n",
    "    return x ** 4 - 2*x**2\n",
    "\n",
    "def gx2(x):\n",
    "    return 12 *x **2 - 4\n",
    "\n",
    "x = Variable(2.)\n",
    "num_iter = 10\n",
    "for i in range(num_iter):\n",
    "    print(i, x)\n",
    "    y = f(x)\n",
    "    x.cleargrad()\n",
    "    y.backward()\n",
    "    x.data -= x.grad / gx2(x.data)"
   ],
   "metadata": {
    "collapsed": false,
    "pycharm": {
     "name": "#%%\n",
     "is_executing": false
    }
   }
  },
  {
   "cell_type": "code",
   "execution_count": 4,
   "outputs": [
    {
     "name": "stdout",
     "text": [
      "-2.0 400.0\n"
     ],
     "output_type": "stream"
    }
   ],
   "source": [
    "x0 = Variable(0.)\n",
    "x1 = Variable(2.)\n",
    "y = rosenbrock(x0, x1)\n",
    "y.backward()\n",
    "print(x0.grad, x1.grad)\n",
    "\n",
    "lr = 1e-3\n",
    "num_iter = int(1e4)\n",
    "\n",
    "for i in range(num_iter):\n",
    "    y = rosenbrock(x0, x1)\n",
    "    x0.cleargrad()\n",
    "    x1.cleargrad()\n",
    "    y.backward()\n",
    "    \n",
    "    x0.data -= lr * x0.grad\n",
    "    x1.data -= lr * x1.grad"
   ],
   "metadata": {
    "collapsed": false,
    "pycharm": {
     "name": "#%%\n",
     "is_executing": false
    }
   }
  },
  {
   "cell_type": "code",
   "execution_count": null,
   "outputs": [],
   "source": [
    "x0.data\n",
    "x1.data\n"
   ],
   "metadata": {
    "collapsed": false,
    "pycharm": {
     "name": "#%%\n"
    }
   }
  },
  {
   "cell_type": "code",
   "execution_count": 4,
   "outputs": [
    {
     "name": "stdout",
     "text": [
      "0.7071064695751781\n",
      "0.7071032148228457\n"
     ],
     "output_type": "stream"
    }
   ],
   "source": [
    "x = Variable(np.pi / 4)\n",
    "y = taylor_sin(x)\n",
    "y.backward()\n",
    "print(y.data)\n",
    "print(x.grad)\n",
    "\n",
    "plot_dot_graph(y, verbose=False, to_file='sin.png')"
   ],
   "metadata": {
    "collapsed": false,
    "pycharm": {
     "name": "#%%\n",
     "is_executing": false
    }
   }
  },
  {
   "cell_type": "code",
   "execution_count": 2,
   "outputs": [],
   "source": [
    "x = Variable(1.)\n",
    "y = Variable(1.)\n",
    "z = goldstein(x, y)\n",
    "z.backward()\n",
    "\n",
    "x.name = 'x'\n",
    "y.name = 'y'\n",
    "z.name = 'z'\n",
    "\n",
    "plot_dot_graph(z, verbose=False, to_file='goldstein.png')"
   ],
   "metadata": {
    "collapsed": false,
    "pycharm": {
     "name": "#%%\n",
     "is_executing": false
    }
   }
  },
  {
   "cell_type": "code",
   "execution_count": 2,
   "outputs": [
    {
     "name": "stdout",
     "text": [
      "4565716416 [label=\"Add\", color=lightblue, style=filled, shape=box]\n",
      "4565716320 -> 4565716416\n",
      "4565716176 -> 4565716416\n",
      "4565716416 -> 4565716512\n",
      "\n"
     ],
     "output_type": "stream"
    }
   ],
   "source": [
    "x0 = Variable(1.)\n",
    "x1 = Variable(1.)\n",
    "y = x0 + x1\n",
    "txt = f_to_dot(y.creator)\n",
    "print(txt)"
   ],
   "metadata": {
    "collapsed": false,
    "pycharm": {
     "name": "#%%\n",
     "is_executing": false
    }
   }
  },
  {
   "cell_type": "code",
   "execution_count": 2,
   "outputs": [
    {
     "name": "stdout",
     "text": [
      "4671452208 [label=\"x\"], color=orange, style=filled]\n",
      "\n",
      "4671452208 [label=\"x: (2, 3) float64\"], color=orange, style=filled]\n",
      "\n"
     ],
     "output_type": "stream"
    }
   ],
   "source": [
    "x = Variable(np.random.randn(2, 3))\n",
    "x.name = 'x'\n",
    "print(dot_var_str(x))\n",
    "print(dot_var_str(x, verbose=True))"
   ],
   "metadata": {
    "collapsed": false,
    "pycharm": {
     "name": "#%%\n",
     "is_executing": false
    }
   }
  },
  {
   "cell_type": "code",
   "execution_count": null,
   "outputs": [],
   "source": [
    "x0 = Variable(1.)\n",
    "x1 = Variable(1.)\n",
    "y = x0 + x1\n",
    "\n",
    "x0.name = 'x0'\n",
    "x1.name = 'x1'\n",
    "y.name = 'y'\n",
    "\n",
    "txt = get_dot_graph(y, verbose=False)\n",
    "print(txt)\n",
    "with open(f'../dot/input/{os.environ.get(\"DOT_FILE\")}.dot') as o:\n",
    "    o.write(txt)"
   ],
   "metadata": {
    "collapsed": false,
    "pycharm": {
     "name": "#%%\n"
    }
   }
  },
  {
   "cell_type": "code",
   "execution_count": 4,
   "outputs": [
    {
     "data": {
      "text/plain": "(2.0, 2.0)"
     },
     "metadata": {},
     "output_type": "execute_result",
     "execution_count": 4
    }
   ],
   "source": [
    "def sphere(x, y):\n",
    "    z = x **2 + y **2\n",
    "    return z\n",
    "\n",
    "x = Variable(1.)\n",
    "y = Variable(1.)\n",
    "z = sphere(x, y)\n",
    "z.backward()\n",
    "x.grad, y.grad\n"
   ],
   "metadata": {
    "collapsed": false,
    "pycharm": {
     "name": "#%%\n",
     "is_executing": false
    }
   }
  },
  {
   "cell_type": "code",
   "execution_count": 3,
   "outputs": [
    {
     "data": {
      "text/plain": "Variable([8.])"
     },
     "metadata": {},
     "output_type": "execute_result",
     "execution_count": 3
    }
   ],
   "source": [
    "x = Variable([2.0])\n",
    "x**3\n"
   ],
   "metadata": {
    "collapsed": false,
    "pycharm": {
     "name": "#%%\n",
     "is_executing": false
    }
   }
  },
  {
   "cell_type": "code",
   "execution_count": 2,
   "outputs": [
    {
     "data": {
      "text/plain": "Variable([-1.])"
     },
     "metadata": {},
     "output_type": "execute_result",
     "execution_count": 2
    }
   ],
   "source": [
    "x = Variable([1.0])\n",
    "y = -x\n",
    "y"
   ],
   "metadata": {
    "collapsed": false,
    "pycharm": {
     "name": "#%%\n",
     "is_executing": false
    }
   }
  },
  {
   "cell_type": "code",
   "execution_count": 2,
   "outputs": [
    {
     "data": {
      "text/plain": "Variable([3.])"
     },
     "metadata": {},
     "output_type": "execute_result",
     "execution_count": 2
    }
   ],
   "source": [
    "x = Variable([1.0])\n",
    "y = np.array([2.]) + x\n",
    "y\n"
   ],
   "metadata": {
    "collapsed": false,
    "pycharm": {
     "name": "#%%\n",
     "is_executing": false
    }
   }
  },
  {
   "cell_type": "code",
   "execution_count": 5,
   "outputs": [
    {
     "data": {
      "text/plain": "array([Variable([3.])], dtype=object)"
     },
     "metadata": {},
     "output_type": "execute_result",
     "execution_count": 5
    }
   ],
   "source": [
    "x = Variable([1.0])\n",
    "y = np.array([2.]) + x\n",
    "y"
   ],
   "metadata": {
    "collapsed": false,
    "pycharm": {
     "name": "#%%\n",
     "is_executing": false
    }
   }
  },
  {
   "cell_type": "code",
   "execution_count": 2,
   "outputs": [
    {
     "name": "stdout",
     "text": [
      "Variable(7.0)\n"
     ],
     "output_type": "stream"
    }
   ],
   "source": [
    "x = Variable(2.)\n",
    "y = 3. * x + 1.\n",
    "print(y)"
   ],
   "metadata": {
    "collapsed": false,
    "pycharm": {
     "name": "#%%\n",
     "is_executing": false
    }
   }
  },
  {
   "cell_type": "code",
   "execution_count": 2,
   "outputs": [
    {
     "name": "stdout",
     "text": [
      "Variable(5.0)\n"
     ],
     "output_type": "stream"
    }
   ],
   "source": [
    "x = Variable(2.)\n",
    "y = x + np.array(3.)\n",
    "print(y)"
   ],
   "metadata": {
    "collapsed": false,
    "pycharm": {
     "name": "#%%\n",
     "is_executing": false
    }
   }
  },
  {
   "cell_type": "code",
   "execution_count": 2,
   "outputs": [
    {
     "name": "stdout",
     "text": [
      "Variable(6.0)\n"
     ],
     "output_type": "stream"
    }
   ],
   "source": [
    "a = Variable(3.0)\n",
    "b = Variable(2.)\n",
    "y = a * b\n",
    "print(y)\n"
   ],
   "metadata": {
    "collapsed": false,
    "pycharm": {
     "name": "#%%\n",
     "is_executing": false
    }
   }
  },
  {
   "cell_type": "code",
   "execution_count": 3,
   "outputs": [
    {
     "name": "stdout",
     "text": [
      "Variable(7.0)\n",
      "2.0\n",
      "3.0\n"
     ],
     "output_type": "stream"
    }
   ],
   "source": [
    "a = Variable(3.0)\n",
    "b = Variable(2.)\n",
    "c = Variable(1.)\n",
    "\n",
    "# y = add(mul(a, b), c)\n",
    "y = a * b + c\n",
    "y.backward()\n",
    "\n",
    "print(y)\n",
    "print(a.grad)\n",
    "print(b.grad)"
   ],
   "metadata": {
    "collapsed": false,
    "pycharm": {
     "name": "#%%\n",
     "is_executing": false
    }
   }
  },
  {
   "cell_type": "code",
   "execution_count": 5,
   "outputs": [
    {
     "data": {
      "text/plain": "Variable([[3 2]\n          [2 1]])"
     },
     "metadata": {},
     "output_type": "execute_result",
     "execution_count": 5
    }
   ],
   "source": [
    "x = Variable(np.array([[3, 2], [2, 1]]))\n",
    "x"
   ],
   "metadata": {
    "collapsed": false,
    "pycharm": {
     "name": "#%%\n",
     "is_executing": false
    }
   }
  },
  {
   "cell_type": "code",
   "execution_count": 2,
   "outputs": [],
   "source": [
    "with no_grad(): \n",
    "    x = Variable(np.array(2.0))\n",
    "    y = square(x)"
   ],
   "metadata": {
    "collapsed": false,
    "pycharm": {
     "name": "#%%\n",
     "is_executing": false
    }
   }
  },
  {
   "cell_type": "code",
   "execution_count": 13,
   "outputs": [
    {
     "name": "stdout",
     "text": [
      "32.0\n",
      "64.0\n"
     ],
     "output_type": "stream"
    }
   ],
   "source": [
    "x = Variable(np.array(2.0))\n",
    "a = square(x)\n",
    "y = add(square(a), square(a))\n",
    "y.backward()\n",
    "\n",
    "print(y.data)\n",
    "print(x.grad)"
   ],
   "metadata": {
    "collapsed": false,
    "pycharm": {
     "name": "#%%\n",
     "is_executing": false
    }
   }
  },
  {
   "cell_type": "code",
   "execution_count": 12,
   "outputs": [
    {
     "data": {
      "text/plain": "[2, 0, 1, 4, 2]"
     },
     "metadata": {},
     "output_type": "execute_result",
     "execution_count": 12
    }
   ],
   "source": [
    "generations = [2, 0, 1, 4, 2]\n",
    "funcs = []\n",
    "\n",
    "for g in generations:\n",
    "    f = Function()\n",
    "    f.generation = g\n",
    "    funcs.append(f)\n",
    "\n",
    "[f.generation for f in funcs]"
   ],
   "metadata": {
    "collapsed": false,
    "pycharm": {
     "name": "#%%\n",
     "is_executing": false
    }
   }
  },
  {
   "cell_type": "code",
   "execution_count": null,
   "outputs": [],
   "source": [],
   "metadata": {
    "collapsed": false,
    "pycharm": {
     "name": "#%%\n"
    }
   }
  },
  {
   "cell_type": "code",
   "execution_count": 7,
   "metadata": {
    "execution": {
     "iopub.execute_input": "2021-01-07T08:30:51.533707Z",
     "iopub.status.busy": "2021-01-07T08:30:51.533399Z",
     "iopub.status.idle": "2021-01-07T08:30:51.549487Z",
     "shell.execute_reply": "2021-01-07T08:30:51.548563Z",
     "shell.execute_reply.started": "2021-01-07T08:30:51.533677Z"
    },
    "pycharm": {
     "is_executing": false
    }
   },
   "outputs": [
    {
     "name": "stdout",
     "text": [
      "y 9.0\n",
      "x.grad 3.0\n"
     ],
     "output_type": "stream"
    }
   ],
   "source": [
    "x = Variable(np.array(3.))\n",
    "y = add(add(x, x), x)\n",
    "print('y', y.data)\n",
    "\n",
    "y.backward()\n",
    "print('x.grad', x.grad)\n",
    "# y = add(x0, x1)"
   ]
  },
  {
   "cell_type": "code",
   "execution_count": 9,
   "metadata": {
    "execution": {
     "iopub.execute_input": "2021-01-07T08:30:55.463603Z",
     "iopub.status.busy": "2021-01-07T08:30:55.463363Z",
     "iopub.status.idle": "2021-01-07T08:30:55.479025Z",
     "shell.execute_reply": "2021-01-07T08:30:55.478008Z",
     "shell.execute_reply.started": "2021-01-07T08:30:55.463577Z"
    }
   },
   "outputs": [],
   "source": []
  },
  {
   "cell_type": "code",
   "execution_count": 10,
   "metadata": {
    "execution": {
     "iopub.execute_input": "2021-01-07T08:30:57.890473Z",
     "iopub.status.busy": "2021-01-07T08:30:57.890224Z",
     "iopub.status.idle": "2021-01-07T08:30:57.906292Z",
     "shell.execute_reply": "2021-01-07T08:30:57.905595Z",
     "shell.execute_reply.started": "2021-01-07T08:30:57.890448Z"
    }
   },
   "outputs": [
    {
     "data": {
      "text/plain": [
       "Variable(13.00)"
      ]
     },
     "execution_count": 10,
     "metadata": {},
     "output_type": "execute_result"
    }
   ],
   "source": []
  },
  {
   "cell_type": "code",
   "execution_count": 5,
   "metadata": {
    "execution": {
     "iopub.execute_input": "2021-01-07T08:26:06.725560Z",
     "iopub.status.busy": "2021-01-07T08:26:06.725309Z",
     "iopub.status.idle": "2021-01-07T08:26:06.742074Z",
     "shell.execute_reply": "2021-01-07T08:26:06.741417Z",
     "shell.execute_reply.started": "2021-01-07T08:26:06.725534Z"
    }
   },
   "outputs": [
    {
     "data": {
      "text/plain": [
       "array(5)"
      ]
     },
     "execution_count": 5,
     "metadata": {},
     "output_type": "execute_result"
    }
   ],
   "source": [
    "y.data"
   ]
  },
  {
   "cell_type": "code",
   "execution_count": null,
   "metadata": {},
   "outputs": [],
   "source": []
  },
  {
   "cell_type": "code",
   "execution_count": 4,
   "metadata": {
    "collapsed": false,
    "jupyter": {
     "outputs_hidden": false
    },
    "pycharm": {
     "is_executing": false,
     "name": "#%%\n"
    }
   },
   "outputs": [],
   "source": [
    "np.isscalar(3)\n"
   ]
  },
  {
   "cell_type": "code",
   "execution_count": 3,
   "metadata": {
    "pycharm": {
     "is_executing": false
    }
   },
   "outputs": [],
   "source": [
    "A = Square()\n",
    "B = Exp()\n",
    "C = Square()\n",
    "\n",
    "x = Variable(np.array(0.5))\n",
    "a = A(x)\n",
    "b = B(a)\n",
    "y = C(b)\n"
   ]
  },
  {
   "cell_type": "code",
   "execution_count": 4,
   "metadata": {
    "pycharm": {
     "is_executing": false
    }
   },
   "outputs": [],
   "source": [
    "assert y.creator == C\n",
    "assert y.creator.input == b\n",
    "assert y.creator.input.creator == B\n",
    "assert y.creator.input.creator.input == a\n",
    "assert y.creator.input.creator.input.creator == A\n"
   ]
  },
  {
   "cell_type": "markdown",
   "metadata": {},
   "source": [
    "y.grad = np.array(1.0)\n",
    "C = y.creator\n",
    "b = C.input\n",
    "b.grad = C.backward(y.grad)"
   ]
  },
  {
   "cell_type": "code",
   "execution_count": 5,
   "metadata": {
    "pycharm": {
     "is_executing": false
    }
   },
   "outputs": [],
   "source": [
    "y.grad = np.array(1.0)\n",
    "y.backward()"
   ]
  },
  {
   "cell_type": "code",
   "execution_count": 6,
   "metadata": {
    "pycharm": {
     "is_executing": false
    }
   },
   "outputs": [
    {
     "data": {
      "text/plain": [
       "3.297442541400256"
      ]
     },
     "execution_count": 6,
     "metadata": {},
     "output_type": "execute_result"
    }
   ],
   "source": [
    "x.grad"
   ]
  },
  {
   "cell_type": "code",
   "execution_count": null,
   "metadata": {},
   "outputs": [],
   "source": []
  }
 ],
 "metadata": {
  "kernelspec": {
   "name": "python3",
   "language": "python",
   "display_name": "Python 3"
  },
  "language_info": {
   "codemirror_mode": {
    "name": "ipython",
    "version": 3
   },
   "file_extension": ".py",
   "mimetype": "text/x-python",
   "name": "python",
   "nbconvert_exporter": "python",
   "pygments_lexer": "ipython3",
   "version": "3.8.1"
  },
  "pycharm": {
   "stem_cell": {
    "cell_type": "raw",
    "source": [],
    "metadata": {
     "collapsed": false
    }
   }
  }
 },
 "nbformat": 4,
 "nbformat_minor": 4
}